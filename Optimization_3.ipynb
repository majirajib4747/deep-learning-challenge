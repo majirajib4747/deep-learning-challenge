{
 "cells": [
  {
   "cell_type": "markdown",
   "metadata": {},
   "source": [
    "## Preprocessing"
   ]
  },
  {
   "cell_type": "code",
   "execution_count": 1,
   "metadata": {},
   "outputs": [
    {
     "ename": "SSLError",
     "evalue": "[SSL: DECRYPTION_FAILED_OR_BAD_RECORD_MAC] decryption failed or bad record mac (_ssl.c:2580)",
     "output_type": "error",
     "traceback": [
      "\u001b[1;31m---------------------------------------------------------------------------\u001b[0m",
      "\u001b[1;31mSSLError\u001b[0m                                  Traceback (most recent call last)",
      "Cell \u001b[1;32mIn[1], line 9\u001b[0m\n\u001b[0;32m      7\u001b[0m \u001b[38;5;66;03m#  Import and read the charity_data.csv.\u001b[39;00m\n\u001b[0;32m      8\u001b[0m \u001b[38;5;28;01mimport\u001b[39;00m \u001b[38;5;21;01mpandas\u001b[39;00m \u001b[38;5;28;01mas\u001b[39;00m \u001b[38;5;21;01mpd\u001b[39;00m \n\u001b[1;32m----> 9\u001b[0m application_df \u001b[38;5;241m=\u001b[39m pd\u001b[38;5;241m.\u001b[39mread_csv(\u001b[38;5;124m\"\u001b[39m\u001b[38;5;124mhttps://static.bc-edx.com/data/dl-1-2/m21/lms/starter/charity_data.csv\u001b[39m\u001b[38;5;124m\"\u001b[39m)\n\u001b[0;32m     10\u001b[0m application_df\u001b[38;5;241m.\u001b[39mhead()\n",
      "File \u001b[1;32m~\\AppData\\Local\\anaconda3\\Lib\\site-packages\\pandas\\io\\parsers\\readers.py:912\u001b[0m, in \u001b[0;36mread_csv\u001b[1;34m(filepath_or_buffer, sep, delimiter, header, names, index_col, usecols, dtype, engine, converters, true_values, false_values, skipinitialspace, skiprows, skipfooter, nrows, na_values, keep_default_na, na_filter, verbose, skip_blank_lines, parse_dates, infer_datetime_format, keep_date_col, date_parser, date_format, dayfirst, cache_dates, iterator, chunksize, compression, thousands, decimal, lineterminator, quotechar, quoting, doublequote, escapechar, comment, encoding, encoding_errors, dialect, on_bad_lines, delim_whitespace, low_memory, memory_map, float_precision, storage_options, dtype_backend)\u001b[0m\n\u001b[0;32m    899\u001b[0m kwds_defaults \u001b[38;5;241m=\u001b[39m _refine_defaults_read(\n\u001b[0;32m    900\u001b[0m     dialect,\n\u001b[0;32m    901\u001b[0m     delimiter,\n\u001b[1;32m   (...)\u001b[0m\n\u001b[0;32m    908\u001b[0m     dtype_backend\u001b[38;5;241m=\u001b[39mdtype_backend,\n\u001b[0;32m    909\u001b[0m )\n\u001b[0;32m    910\u001b[0m kwds\u001b[38;5;241m.\u001b[39mupdate(kwds_defaults)\n\u001b[1;32m--> 912\u001b[0m \u001b[38;5;28;01mreturn\u001b[39;00m _read(filepath_or_buffer, kwds)\n",
      "File \u001b[1;32m~\\AppData\\Local\\anaconda3\\Lib\\site-packages\\pandas\\io\\parsers\\readers.py:577\u001b[0m, in \u001b[0;36m_read\u001b[1;34m(filepath_or_buffer, kwds)\u001b[0m\n\u001b[0;32m    574\u001b[0m _validate_names(kwds\u001b[38;5;241m.\u001b[39mget(\u001b[38;5;124m\"\u001b[39m\u001b[38;5;124mnames\u001b[39m\u001b[38;5;124m\"\u001b[39m, \u001b[38;5;28;01mNone\u001b[39;00m))\n\u001b[0;32m    576\u001b[0m \u001b[38;5;66;03m# Create the parser.\u001b[39;00m\n\u001b[1;32m--> 577\u001b[0m parser \u001b[38;5;241m=\u001b[39m TextFileReader(filepath_or_buffer, \u001b[38;5;241m*\u001b[39m\u001b[38;5;241m*\u001b[39mkwds)\n\u001b[0;32m    579\u001b[0m \u001b[38;5;28;01mif\u001b[39;00m chunksize \u001b[38;5;129;01mor\u001b[39;00m iterator:\n\u001b[0;32m    580\u001b[0m     \u001b[38;5;28;01mreturn\u001b[39;00m parser\n",
      "File \u001b[1;32m~\\AppData\\Local\\anaconda3\\Lib\\site-packages\\pandas\\io\\parsers\\readers.py:1407\u001b[0m, in \u001b[0;36mTextFileReader.__init__\u001b[1;34m(self, f, engine, **kwds)\u001b[0m\n\u001b[0;32m   1404\u001b[0m     \u001b[38;5;28mself\u001b[39m\u001b[38;5;241m.\u001b[39moptions[\u001b[38;5;124m\"\u001b[39m\u001b[38;5;124mhas_index_names\u001b[39m\u001b[38;5;124m\"\u001b[39m] \u001b[38;5;241m=\u001b[39m kwds[\u001b[38;5;124m\"\u001b[39m\u001b[38;5;124mhas_index_names\u001b[39m\u001b[38;5;124m\"\u001b[39m]\n\u001b[0;32m   1406\u001b[0m \u001b[38;5;28mself\u001b[39m\u001b[38;5;241m.\u001b[39mhandles: IOHandles \u001b[38;5;241m|\u001b[39m \u001b[38;5;28;01mNone\u001b[39;00m \u001b[38;5;241m=\u001b[39m \u001b[38;5;28;01mNone\u001b[39;00m\n\u001b[1;32m-> 1407\u001b[0m \u001b[38;5;28mself\u001b[39m\u001b[38;5;241m.\u001b[39m_engine \u001b[38;5;241m=\u001b[39m \u001b[38;5;28mself\u001b[39m\u001b[38;5;241m.\u001b[39m_make_engine(f, \u001b[38;5;28mself\u001b[39m\u001b[38;5;241m.\u001b[39mengine)\n",
      "File \u001b[1;32m~\\AppData\\Local\\anaconda3\\Lib\\site-packages\\pandas\\io\\parsers\\readers.py:1661\u001b[0m, in \u001b[0;36mTextFileReader._make_engine\u001b[1;34m(self, f, engine)\u001b[0m\n\u001b[0;32m   1659\u001b[0m     \u001b[38;5;28;01mif\u001b[39;00m \u001b[38;5;124m\"\u001b[39m\u001b[38;5;124mb\u001b[39m\u001b[38;5;124m\"\u001b[39m \u001b[38;5;129;01mnot\u001b[39;00m \u001b[38;5;129;01min\u001b[39;00m mode:\n\u001b[0;32m   1660\u001b[0m         mode \u001b[38;5;241m+\u001b[39m\u001b[38;5;241m=\u001b[39m \u001b[38;5;124m\"\u001b[39m\u001b[38;5;124mb\u001b[39m\u001b[38;5;124m\"\u001b[39m\n\u001b[1;32m-> 1661\u001b[0m \u001b[38;5;28mself\u001b[39m\u001b[38;5;241m.\u001b[39mhandles \u001b[38;5;241m=\u001b[39m get_handle(\n\u001b[0;32m   1662\u001b[0m     f,\n\u001b[0;32m   1663\u001b[0m     mode,\n\u001b[0;32m   1664\u001b[0m     encoding\u001b[38;5;241m=\u001b[39m\u001b[38;5;28mself\u001b[39m\u001b[38;5;241m.\u001b[39moptions\u001b[38;5;241m.\u001b[39mget(\u001b[38;5;124m\"\u001b[39m\u001b[38;5;124mencoding\u001b[39m\u001b[38;5;124m\"\u001b[39m, \u001b[38;5;28;01mNone\u001b[39;00m),\n\u001b[0;32m   1665\u001b[0m     compression\u001b[38;5;241m=\u001b[39m\u001b[38;5;28mself\u001b[39m\u001b[38;5;241m.\u001b[39moptions\u001b[38;5;241m.\u001b[39mget(\u001b[38;5;124m\"\u001b[39m\u001b[38;5;124mcompression\u001b[39m\u001b[38;5;124m\"\u001b[39m, \u001b[38;5;28;01mNone\u001b[39;00m),\n\u001b[0;32m   1666\u001b[0m     memory_map\u001b[38;5;241m=\u001b[39m\u001b[38;5;28mself\u001b[39m\u001b[38;5;241m.\u001b[39moptions\u001b[38;5;241m.\u001b[39mget(\u001b[38;5;124m\"\u001b[39m\u001b[38;5;124mmemory_map\u001b[39m\u001b[38;5;124m\"\u001b[39m, \u001b[38;5;28;01mFalse\u001b[39;00m),\n\u001b[0;32m   1667\u001b[0m     is_text\u001b[38;5;241m=\u001b[39mis_text,\n\u001b[0;32m   1668\u001b[0m     errors\u001b[38;5;241m=\u001b[39m\u001b[38;5;28mself\u001b[39m\u001b[38;5;241m.\u001b[39moptions\u001b[38;5;241m.\u001b[39mget(\u001b[38;5;124m\"\u001b[39m\u001b[38;5;124mencoding_errors\u001b[39m\u001b[38;5;124m\"\u001b[39m, \u001b[38;5;124m\"\u001b[39m\u001b[38;5;124mstrict\u001b[39m\u001b[38;5;124m\"\u001b[39m),\n\u001b[0;32m   1669\u001b[0m     storage_options\u001b[38;5;241m=\u001b[39m\u001b[38;5;28mself\u001b[39m\u001b[38;5;241m.\u001b[39moptions\u001b[38;5;241m.\u001b[39mget(\u001b[38;5;124m\"\u001b[39m\u001b[38;5;124mstorage_options\u001b[39m\u001b[38;5;124m\"\u001b[39m, \u001b[38;5;28;01mNone\u001b[39;00m),\n\u001b[0;32m   1670\u001b[0m )\n\u001b[0;32m   1671\u001b[0m \u001b[38;5;28;01massert\u001b[39;00m \u001b[38;5;28mself\u001b[39m\u001b[38;5;241m.\u001b[39mhandles \u001b[38;5;129;01mis\u001b[39;00m \u001b[38;5;129;01mnot\u001b[39;00m \u001b[38;5;28;01mNone\u001b[39;00m\n\u001b[0;32m   1672\u001b[0m f \u001b[38;5;241m=\u001b[39m \u001b[38;5;28mself\u001b[39m\u001b[38;5;241m.\u001b[39mhandles\u001b[38;5;241m.\u001b[39mhandle\n",
      "File \u001b[1;32m~\\AppData\\Local\\anaconda3\\Lib\\site-packages\\pandas\\io\\common.py:716\u001b[0m, in \u001b[0;36mget_handle\u001b[1;34m(path_or_buf, mode, encoding, compression, memory_map, is_text, errors, storage_options)\u001b[0m\n\u001b[0;32m    713\u001b[0m     codecs\u001b[38;5;241m.\u001b[39mlookup_error(errors)\n\u001b[0;32m    715\u001b[0m \u001b[38;5;66;03m# open URLs\u001b[39;00m\n\u001b[1;32m--> 716\u001b[0m ioargs \u001b[38;5;241m=\u001b[39m _get_filepath_or_buffer(\n\u001b[0;32m    717\u001b[0m     path_or_buf,\n\u001b[0;32m    718\u001b[0m     encoding\u001b[38;5;241m=\u001b[39mencoding,\n\u001b[0;32m    719\u001b[0m     compression\u001b[38;5;241m=\u001b[39mcompression,\n\u001b[0;32m    720\u001b[0m     mode\u001b[38;5;241m=\u001b[39mmode,\n\u001b[0;32m    721\u001b[0m     storage_options\u001b[38;5;241m=\u001b[39mstorage_options,\n\u001b[0;32m    722\u001b[0m )\n\u001b[0;32m    724\u001b[0m handle \u001b[38;5;241m=\u001b[39m ioargs\u001b[38;5;241m.\u001b[39mfilepath_or_buffer\n\u001b[0;32m    725\u001b[0m handles: \u001b[38;5;28mlist\u001b[39m[BaseBuffer]\n",
      "File \u001b[1;32m~\\AppData\\Local\\anaconda3\\Lib\\site-packages\\pandas\\io\\common.py:373\u001b[0m, in \u001b[0;36m_get_filepath_or_buffer\u001b[1;34m(filepath_or_buffer, encoding, compression, mode, storage_options)\u001b[0m\n\u001b[0;32m    370\u001b[0m         \u001b[38;5;28;01mif\u001b[39;00m content_encoding \u001b[38;5;241m==\u001b[39m \u001b[38;5;124m\"\u001b[39m\u001b[38;5;124mgzip\u001b[39m\u001b[38;5;124m\"\u001b[39m:\n\u001b[0;32m    371\u001b[0m             \u001b[38;5;66;03m# Override compression based on Content-Encoding header\u001b[39;00m\n\u001b[0;32m    372\u001b[0m             compression \u001b[38;5;241m=\u001b[39m {\u001b[38;5;124m\"\u001b[39m\u001b[38;5;124mmethod\u001b[39m\u001b[38;5;124m\"\u001b[39m: \u001b[38;5;124m\"\u001b[39m\u001b[38;5;124mgzip\u001b[39m\u001b[38;5;124m\"\u001b[39m}\n\u001b[1;32m--> 373\u001b[0m         reader \u001b[38;5;241m=\u001b[39m BytesIO(req\u001b[38;5;241m.\u001b[39mread())\n\u001b[0;32m    374\u001b[0m     \u001b[38;5;28;01mreturn\u001b[39;00m IOArgs(\n\u001b[0;32m    375\u001b[0m         filepath_or_buffer\u001b[38;5;241m=\u001b[39mreader,\n\u001b[0;32m    376\u001b[0m         encoding\u001b[38;5;241m=\u001b[39mencoding,\n\u001b[1;32m   (...)\u001b[0m\n\u001b[0;32m    379\u001b[0m         mode\u001b[38;5;241m=\u001b[39mfsspec_mode,\n\u001b[0;32m    380\u001b[0m     )\n\u001b[0;32m    382\u001b[0m \u001b[38;5;28;01mif\u001b[39;00m is_fsspec_url(filepath_or_buffer):\n",
      "File \u001b[1;32m~\\AppData\\Local\\anaconda3\\Lib\\http\\client.py:482\u001b[0m, in \u001b[0;36mHTTPResponse.read\u001b[1;34m(self, amt)\u001b[0m\n\u001b[0;32m    480\u001b[0m \u001b[38;5;28;01melse\u001b[39;00m:\n\u001b[0;32m    481\u001b[0m     \u001b[38;5;28;01mtry\u001b[39;00m:\n\u001b[1;32m--> 482\u001b[0m         s \u001b[38;5;241m=\u001b[39m \u001b[38;5;28mself\u001b[39m\u001b[38;5;241m.\u001b[39m_safe_read(\u001b[38;5;28mself\u001b[39m\u001b[38;5;241m.\u001b[39mlength)\n\u001b[0;32m    483\u001b[0m     \u001b[38;5;28;01mexcept\u001b[39;00m IncompleteRead:\n\u001b[0;32m    484\u001b[0m         \u001b[38;5;28mself\u001b[39m\u001b[38;5;241m.\u001b[39m_close_conn()\n",
      "File \u001b[1;32m~\\AppData\\Local\\anaconda3\\Lib\\http\\client.py:631\u001b[0m, in \u001b[0;36mHTTPResponse._safe_read\u001b[1;34m(self, amt)\u001b[0m\n\u001b[0;32m    624\u001b[0m \u001b[38;5;28;01mdef\u001b[39;00m \u001b[38;5;21m_safe_read\u001b[39m(\u001b[38;5;28mself\u001b[39m, amt):\n\u001b[0;32m    625\u001b[0m \u001b[38;5;250m    \u001b[39m\u001b[38;5;124;03m\"\"\"Read the number of bytes requested.\u001b[39;00m\n\u001b[0;32m    626\u001b[0m \n\u001b[0;32m    627\u001b[0m \u001b[38;5;124;03m    This function should be used when <amt> bytes \"should\" be present for\u001b[39;00m\n\u001b[0;32m    628\u001b[0m \u001b[38;5;124;03m    reading. If the bytes are truly not available (due to EOF), then the\u001b[39;00m\n\u001b[0;32m    629\u001b[0m \u001b[38;5;124;03m    IncompleteRead exception can be used to detect the problem.\u001b[39;00m\n\u001b[0;32m    630\u001b[0m \u001b[38;5;124;03m    \"\"\"\u001b[39;00m\n\u001b[1;32m--> 631\u001b[0m     data \u001b[38;5;241m=\u001b[39m \u001b[38;5;28mself\u001b[39m\u001b[38;5;241m.\u001b[39mfp\u001b[38;5;241m.\u001b[39mread(amt)\n\u001b[0;32m    632\u001b[0m     \u001b[38;5;28;01mif\u001b[39;00m \u001b[38;5;28mlen\u001b[39m(data) \u001b[38;5;241m<\u001b[39m amt:\n\u001b[0;32m    633\u001b[0m         \u001b[38;5;28;01mraise\u001b[39;00m IncompleteRead(data, amt\u001b[38;5;241m-\u001b[39m\u001b[38;5;28mlen\u001b[39m(data))\n",
      "File \u001b[1;32m~\\AppData\\Local\\anaconda3\\Lib\\socket.py:706\u001b[0m, in \u001b[0;36mSocketIO.readinto\u001b[1;34m(self, b)\u001b[0m\n\u001b[0;32m    704\u001b[0m \u001b[38;5;28;01mwhile\u001b[39;00m \u001b[38;5;28;01mTrue\u001b[39;00m:\n\u001b[0;32m    705\u001b[0m     \u001b[38;5;28;01mtry\u001b[39;00m:\n\u001b[1;32m--> 706\u001b[0m         \u001b[38;5;28;01mreturn\u001b[39;00m \u001b[38;5;28mself\u001b[39m\u001b[38;5;241m.\u001b[39m_sock\u001b[38;5;241m.\u001b[39mrecv_into(b)\n\u001b[0;32m    707\u001b[0m     \u001b[38;5;28;01mexcept\u001b[39;00m timeout:\n\u001b[0;32m    708\u001b[0m         \u001b[38;5;28mself\u001b[39m\u001b[38;5;241m.\u001b[39m_timeout_occurred \u001b[38;5;241m=\u001b[39m \u001b[38;5;28;01mTrue\u001b[39;00m\n",
      "File \u001b[1;32m~\\AppData\\Local\\anaconda3\\Lib\\ssl.py:1311\u001b[0m, in \u001b[0;36mSSLSocket.recv_into\u001b[1;34m(self, buffer, nbytes, flags)\u001b[0m\n\u001b[0;32m   1307\u001b[0m     \u001b[38;5;28;01mif\u001b[39;00m flags \u001b[38;5;241m!=\u001b[39m \u001b[38;5;241m0\u001b[39m:\n\u001b[0;32m   1308\u001b[0m         \u001b[38;5;28;01mraise\u001b[39;00m \u001b[38;5;167;01mValueError\u001b[39;00m(\n\u001b[0;32m   1309\u001b[0m           \u001b[38;5;124m\"\u001b[39m\u001b[38;5;124mnon-zero flags not allowed in calls to recv_into() on \u001b[39m\u001b[38;5;132;01m%s\u001b[39;00m\u001b[38;5;124m\"\u001b[39m \u001b[38;5;241m%\u001b[39m\n\u001b[0;32m   1310\u001b[0m           \u001b[38;5;28mself\u001b[39m\u001b[38;5;241m.\u001b[39m\u001b[38;5;18m__class__\u001b[39m)\n\u001b[1;32m-> 1311\u001b[0m     \u001b[38;5;28;01mreturn\u001b[39;00m \u001b[38;5;28mself\u001b[39m\u001b[38;5;241m.\u001b[39mread(nbytes, buffer)\n\u001b[0;32m   1312\u001b[0m \u001b[38;5;28;01melse\u001b[39;00m:\n\u001b[0;32m   1313\u001b[0m     \u001b[38;5;28;01mreturn\u001b[39;00m \u001b[38;5;28msuper\u001b[39m()\u001b[38;5;241m.\u001b[39mrecv_into(buffer, nbytes, flags)\n",
      "File \u001b[1;32m~\\AppData\\Local\\anaconda3\\Lib\\ssl.py:1167\u001b[0m, in \u001b[0;36mSSLSocket.read\u001b[1;34m(self, len, buffer)\u001b[0m\n\u001b[0;32m   1165\u001b[0m \u001b[38;5;28;01mtry\u001b[39;00m:\n\u001b[0;32m   1166\u001b[0m     \u001b[38;5;28;01mif\u001b[39;00m buffer \u001b[38;5;129;01mis\u001b[39;00m \u001b[38;5;129;01mnot\u001b[39;00m \u001b[38;5;28;01mNone\u001b[39;00m:\n\u001b[1;32m-> 1167\u001b[0m         \u001b[38;5;28;01mreturn\u001b[39;00m \u001b[38;5;28mself\u001b[39m\u001b[38;5;241m.\u001b[39m_sslobj\u001b[38;5;241m.\u001b[39mread(\u001b[38;5;28mlen\u001b[39m, buffer)\n\u001b[0;32m   1168\u001b[0m     \u001b[38;5;28;01melse\u001b[39;00m:\n\u001b[0;32m   1169\u001b[0m         \u001b[38;5;28;01mreturn\u001b[39;00m \u001b[38;5;28mself\u001b[39m\u001b[38;5;241m.\u001b[39m_sslobj\u001b[38;5;241m.\u001b[39mread(\u001b[38;5;28mlen\u001b[39m)\n",
      "\u001b[1;31mSSLError\u001b[0m: [SSL: DECRYPTION_FAILED_OR_BAD_RECORD_MAC] decryption failed or bad record mac (_ssl.c:2580)"
     ]
    }
   ],
   "source": [
    "# Import our dependencies\n",
    "from sklearn.model_selection import train_test_split\n",
    "from sklearn.preprocessing import StandardScaler\n",
    "import pandas as pd\n",
    "import tensorflow as tf\n",
    "\n",
    "#  Import and read the charity_data.csv.\n",
    "import pandas as pd \n",
    "application_df = pd.read_csv(\"https://static.bc-edx.com/data/dl-1-2/m21/lms/starter/charity_data.csv\")\n",
    "application_df.head()"
   ]
  },
  {
   "cell_type": "code",
   "execution_count": null,
   "metadata": {},
   "outputs": [],
   "source": [
    "# Drop the non-beneficial ID columns, 'EIN' and 'NAME'.\n",
    "application_df = application_df.drop([\"EIN\",\"NAME\"],axis=1)\n",
    "application_df.head()"
   ]
  },
  {
   "cell_type": "code",
   "execution_count": null,
   "metadata": {},
   "outputs": [],
   "source": [
    "# Determine the number of unique values in each column.\n",
    "#  YOUR CODE GOES HERE\n",
    "application_df.nunique()"
   ]
  },
  {
   "cell_type": "code",
   "execution_count": null,
   "metadata": {},
   "outputs": [],
   "source": [
    "# Look at APPLICATION_TYPE value counts for binning\n",
    "application_df[\"APPLICATION_TYPE\"].value_counts()"
   ]
  },
  {
   "cell_type": "code",
   "execution_count": null,
   "metadata": {},
   "outputs": [],
   "source": [
    "# Choose a cutoff value and create a list of application types to be replaced\n",
    "# use the variable name `application_types_to_replace`\n",
    "application_types_to_replace = [\"T9\",\"T13\",\"T12\",\"T2\",\"T25\",\"T14\",\"T29\",\"T15\",\"T17\"]\n",
    "\n",
    "# Replace in dataframe\n",
    "for app in application_types_to_replace:\n",
    "    application_df['APPLICATION_TYPE'] = application_df['APPLICATION_TYPE'].replace(app,\"Other\")\n",
    "\n",
    "# Check to make sure binning was successful\n",
    "application_df['APPLICATION_TYPE'].value_counts()"
   ]
  },
  {
   "cell_type": "code",
   "execution_count": null,
   "metadata": {},
   "outputs": [],
   "source": [
    "# Look at CLASSIFICATION value counts for binning\n",
    "application_df['CLASSIFICATION'].value_counts()"
   ]
  },
  {
   "cell_type": "code",
   "execution_count": null,
   "metadata": {},
   "outputs": [],
   "source": [
    "# You may find it helpful to look at CLASSIFICATION value counts >1\n",
    "value_counts_classification = application_df['CLASSIFICATION'].value_counts()\n",
    "value_counts_classification_filtered = value_counts_classification[value_counts_classification>1]\n",
    "value_counts_classification_filtered "
   ]
  },
  {
   "cell_type": "code",
   "execution_count": null,
   "metadata": {},
   "outputs": [],
   "source": [
    "classifications_to_replace = list(application_df.CLASSIFICATION.value_counts()[application_df.CLASSIFICATION.value_counts() < 1883].index)\n",
    "print(classifications_to_replace)"
   ]
  },
  {
   "cell_type": "code",
   "execution_count": null,
   "metadata": {},
   "outputs": [],
   "source": [
    "# Choose a cutoff value and create a list of classifications to be replaced\n",
    "# use the variable name `classifications_to_replace`\n",
    "#  YOUR CODE GOES HERE\n",
    "classifications_to_replace = list(application_df.CLASSIFICATION.value_counts()[application_df.CLASSIFICATION.value_counts() < 100].index)\n",
    "# Replace in dataframe\n",
    "for cls in classifications_to_replace:\n",
    "    application_df['CLASSIFICATION'] = application_df['CLASSIFICATION'].replace(cls,\"Other\")\n",
    "    \n",
    "# Check to make sure binning was successful\n",
    "application_df['CLASSIFICATION'].value_counts()"
   ]
  },
  {
   "cell_type": "code",
   "execution_count": null,
   "metadata": {},
   "outputs": [],
   "source": [
    "# Convert categorical data to numeric with `pd.get_dummies`\n",
    "application_df = pd.get_dummies(application_df)\n",
    "application_df.head()"
   ]
  },
  {
   "cell_type": "code",
   "execution_count": null,
   "metadata": {},
   "outputs": [],
   "source": [
    "# Split our preprocessed data into our features and target arrays\n",
    "y = application_df[\"IS_SUCCESSFUL\"].values\n",
    "X = application_df.drop([\"IS_SUCCESSFUL\"],axis=1).values\n",
    "\n",
    "\n",
    "# Split the preprocessed data into a training and testing dataset\n",
    "X_train, x_test, Y_train, y_test = train_test_split(X, y, test_size=0.2, random_state=1)"
   ]
  },
  {
   "cell_type": "code",
   "execution_count": null,
   "metadata": {},
   "outputs": [],
   "source": [
    "# Create a StandardScaler instances\n",
    "scaler = StandardScaler()\n",
    "\n",
    "# Fit the StandardScaler\n",
    "X_scaler = scaler.fit(X_train)\n",
    "\n",
    "# Scale the data\n",
    "X_train_scaled = X_scaler.transform(X_train)\n",
    "X_test_scaled = X_scaler.transform(x_test)"
   ]
  },
  {
   "cell_type": "markdown",
   "metadata": {},
   "source": [
    "## Compile, Train and Evaluate the Model"
   ]
  },
  {
   "cell_type": "markdown",
   "metadata": {},
   "source": [
    "### 4 Layers with 80 ,30 , 30 , 30 Neurons. Input and hidden layer Activation function is relu. Out put activation finction in Segmoid. "
   ]
  },
  {
   "cell_type": "code",
   "execution_count": null,
   "metadata": {},
   "outputs": [],
   "source": [
    "# Define the model - deep neural net, i.e., the number of input features and hidden nodes for each layer.\n",
    "#  YOUR CODE GOES HERE\n",
    "number_input_features = len(X_train[0])\n",
    "hidden_nodes_layer1 =  80\n",
    "hidden_nodes_layer2 = 30\n",
    "hidden_nodes_layer3 = 30\n",
    "hidden_nodes_layer4 = 30\n",
    "\n",
    "nn = tf.keras.models.Sequential()\n",
    "\n",
    "# First hidden layer\n",
    "#  YOUR CODE GOES HERE\n",
    "nn.add(\n",
    "    tf.keras.layers.Dense(units=hidden_nodes_layer1, input_dim=number_input_features, activation=\"relu\")\n",
    ")\n",
    "# Second hidden layer\n",
    "#  YOUR CODE GOES HERE\n",
    "nn.add(tf.keras.layers.Dense(units=hidden_nodes_layer2, activation=\"relu\"))\n",
    "# Third hidden layer\n",
    "nn.add(tf.keras.layers.Dense(units=hidden_nodes_layer3, activation=\"relu\"))\n",
    "# Fourth hidden layer\n",
    "nn.add(tf.keras.layers.Dense(units=hidden_nodes_layer4, activation=\"relu\"))\n",
    "# Output layer\n",
    "#  YOUR CODE GOES HERE\n",
    "nn.add(tf.keras.layers.Dense(units=1, activation=\"sigmoid\"))\n",
    "# Check the structure of the model\n",
    "nn.summary()"
   ]
  },
  {
   "cell_type": "code",
   "execution_count": 14,
   "metadata": {},
   "outputs": [],
   "source": [
    "# Compile the model\n",
    "nn.compile(loss=\"binary_crossentropy\", optimizer=\"adam\", metrics=[\"accuracy\"])"
   ]
  },
  {
   "cell_type": "code",
   "execution_count": 15,
   "metadata": {},
   "outputs": [
    {
     "name": "stdout",
     "output_type": "stream",
     "text": [
      "Epoch 1/100\n",
      "858/858 [==============================] - 6s 4ms/step - loss: 0.5667 - accuracy: 0.7214\n",
      "Epoch 2/100\n",
      "858/858 [==============================] - 3s 4ms/step - loss: 0.5524 - accuracy: 0.7302\n",
      "Epoch 3/100\n",
      "858/858 [==============================] - 3s 4ms/step - loss: 0.5482 - accuracy: 0.7319\n",
      "Epoch 4/100\n",
      "858/858 [==============================] - 3s 4ms/step - loss: 0.5473 - accuracy: 0.7308\n",
      "Epoch 5/100\n",
      "858/858 [==============================] - 3s 3ms/step - loss: 0.5456 - accuracy: 0.7328\n",
      "Epoch 6/100\n",
      "858/858 [==============================] - 3s 3ms/step - loss: 0.5448 - accuracy: 0.7337\n",
      "Epoch 7/100\n",
      "858/858 [==============================] - 3s 3ms/step - loss: 0.5436 - accuracy: 0.7342\n",
      "Epoch 8/100\n",
      "858/858 [==============================] - 3s 3ms/step - loss: 0.5434 - accuracy: 0.7344\n",
      "Epoch 9/100\n",
      "858/858 [==============================] - 3s 4ms/step - loss: 0.5429 - accuracy: 0.7347\n",
      "Epoch 10/100\n",
      "858/858 [==============================] - 3s 4ms/step - loss: 0.5423 - accuracy: 0.7347\n",
      "Epoch 11/100\n",
      "858/858 [==============================] - 3s 4ms/step - loss: 0.5416 - accuracy: 0.7355\n",
      "Epoch 12/100\n",
      "858/858 [==============================] - 3s 4ms/step - loss: 0.5418 - accuracy: 0.7361\n",
      "Epoch 13/100\n",
      "858/858 [==============================] - 3s 3ms/step - loss: 0.5410 - accuracy: 0.7364\n",
      "Epoch 14/100\n",
      "858/858 [==============================] - 3s 3ms/step - loss: 0.5407 - accuracy: 0.7367\n",
      "Epoch 15/100\n",
      "858/858 [==============================] - 3s 4ms/step - loss: 0.5400 - accuracy: 0.7363\n",
      "Epoch 16/100\n",
      "858/858 [==============================] - 3s 4ms/step - loss: 0.5403 - accuracy: 0.7366\n",
      "Epoch 17/100\n",
      "858/858 [==============================] - 3s 4ms/step - loss: 0.5396 - accuracy: 0.7378\n",
      "Epoch 18/100\n",
      "858/858 [==============================] - 3s 4ms/step - loss: 0.5390 - accuracy: 0.7369\n",
      "Epoch 19/100\n",
      "858/858 [==============================] - 3s 4ms/step - loss: 0.5388 - accuracy: 0.7365\n",
      "Epoch 20/100\n",
      "858/858 [==============================] - 3s 3ms/step - loss: 0.5385 - accuracy: 0.7385\n",
      "Epoch 21/100\n",
      "858/858 [==============================] - 2s 3ms/step - loss: 0.5382 - accuracy: 0.7378\n",
      "Epoch 22/100\n",
      "858/858 [==============================] - 3s 3ms/step - loss: 0.5383 - accuracy: 0.7380\n",
      "Epoch 23/100\n",
      "858/858 [==============================] - 3s 4ms/step - loss: 0.5378 - accuracy: 0.7377\n",
      "Epoch 24/100\n",
      "858/858 [==============================] - 3s 4ms/step - loss: 0.5375 - accuracy: 0.7377\n",
      "Epoch 25/100\n",
      "858/858 [==============================] - 3s 4ms/step - loss: 0.5375 - accuracy: 0.7379\n",
      "Epoch 26/100\n",
      "858/858 [==============================] - 3s 4ms/step - loss: 0.5369 - accuracy: 0.7379\n",
      "Epoch 27/100\n",
      "858/858 [==============================] - 3s 3ms/step - loss: 0.5368 - accuracy: 0.7393\n",
      "Epoch 28/100\n",
      "858/858 [==============================] - 3s 3ms/step - loss: 0.5369 - accuracy: 0.7388\n",
      "Epoch 29/100\n",
      "858/858 [==============================] - 3s 3ms/step - loss: 0.5363 - accuracy: 0.7391\n",
      "Epoch 30/100\n",
      "858/858 [==============================] - 3s 4ms/step - loss: 0.5362 - accuracy: 0.7391\n",
      "Epoch 31/100\n",
      "858/858 [==============================] - 3s 4ms/step - loss: 0.5358 - accuracy: 0.7390\n",
      "Epoch 32/100\n",
      "858/858 [==============================] - 3s 4ms/step - loss: 0.5354 - accuracy: 0.7387\n",
      "Epoch 33/100\n",
      "858/858 [==============================] - 3s 4ms/step - loss: 0.5356 - accuracy: 0.7391\n",
      "Epoch 34/100\n",
      "858/858 [==============================] - 3s 4ms/step - loss: 0.5350 - accuracy: 0.7390\n",
      "Epoch 35/100\n",
      "858/858 [==============================] - 2s 3ms/step - loss: 0.5358 - accuracy: 0.7380\n",
      "Epoch 36/100\n",
      "858/858 [==============================] - 3s 3ms/step - loss: 0.5350 - accuracy: 0.7394\n",
      "Epoch 37/100\n",
      "858/858 [==============================] - 2s 3ms/step - loss: 0.5346 - accuracy: 0.7397\n",
      "Epoch 38/100\n",
      "858/858 [==============================] - 3s 4ms/step - loss: 0.5351 - accuracy: 0.7402\n",
      "Epoch 39/100\n",
      "858/858 [==============================] - 3s 4ms/step - loss: 0.5340 - accuracy: 0.7404\n",
      "Epoch 40/100\n",
      "858/858 [==============================] - 3s 3ms/step - loss: 0.5337 - accuracy: 0.7400\n",
      "Epoch 41/100\n",
      "858/858 [==============================] - 2s 3ms/step - loss: 0.5339 - accuracy: 0.7402\n",
      "Epoch 42/100\n",
      "858/858 [==============================] - 3s 3ms/step - loss: 0.5336 - accuracy: 0.7403\n",
      "Epoch 43/100\n",
      "858/858 [==============================] - 3s 3ms/step - loss: 0.5337 - accuracy: 0.7403\n",
      "Epoch 44/100\n",
      "858/858 [==============================] - 3s 4ms/step - loss: 0.5337 - accuracy: 0.7399\n",
      "Epoch 45/100\n",
      "858/858 [==============================] - 3s 3ms/step - loss: 0.5335 - accuracy: 0.7400\n",
      "Epoch 46/100\n",
      "858/858 [==============================] - 3s 3ms/step - loss: 0.5335 - accuracy: 0.7394\n",
      "Epoch 47/100\n",
      "858/858 [==============================] - 3s 4ms/step - loss: 0.5328 - accuracy: 0.7397\n",
      "Epoch 48/100\n",
      "858/858 [==============================] - 3s 4ms/step - loss: 0.5334 - accuracy: 0.7398\n",
      "Epoch 49/100\n",
      "858/858 [==============================] - 3s 3ms/step - loss: 0.5329 - accuracy: 0.7402\n",
      "Epoch 50/100\n",
      "858/858 [==============================] - 2s 3ms/step - loss: 0.5330 - accuracy: 0.7404\n",
      "Epoch 51/100\n",
      "858/858 [==============================] - 3s 3ms/step - loss: 0.5334 - accuracy: 0.7399\n",
      "Epoch 52/100\n",
      "858/858 [==============================] - 2s 3ms/step - loss: 0.5324 - accuracy: 0.7400\n",
      "Epoch 53/100\n",
      "858/858 [==============================] - 3s 3ms/step - loss: 0.5323 - accuracy: 0.7403\n",
      "Epoch 54/100\n",
      "858/858 [==============================] - 3s 3ms/step - loss: 0.5325 - accuracy: 0.7408\n",
      "Epoch 55/100\n",
      "858/858 [==============================] - 3s 3ms/step - loss: 0.5326 - accuracy: 0.7407\n",
      "Epoch 56/100\n",
      "858/858 [==============================] - 3s 3ms/step - loss: 0.5325 - accuracy: 0.7402\n",
      "Epoch 57/100\n",
      "858/858 [==============================] - 3s 3ms/step - loss: 0.5325 - accuracy: 0.7403\n",
      "Epoch 58/100\n",
      "858/858 [==============================] - 3s 3ms/step - loss: 0.5333 - accuracy: 0.7401\n",
      "Epoch 59/100\n",
      "858/858 [==============================] - 3s 3ms/step - loss: 0.5325 - accuracy: 0.7404\n",
      "Epoch 60/100\n",
      "858/858 [==============================] - 3s 3ms/step - loss: 0.5319 - accuracy: 0.7409\n",
      "Epoch 61/100\n",
      "858/858 [==============================] - 3s 4ms/step - loss: 0.5319 - accuracy: 0.7410\n",
      "Epoch 62/100\n",
      "858/858 [==============================] - 3s 4ms/step - loss: 0.5313 - accuracy: 0.7407\n",
      "Epoch 63/100\n",
      "858/858 [==============================] - 2s 3ms/step - loss: 0.5316 - accuracy: 0.7405\n",
      "Epoch 64/100\n",
      "858/858 [==============================] - 3s 4ms/step - loss: 0.5317 - accuracy: 0.7408\n",
      "Epoch 65/100\n",
      "858/858 [==============================] - 3s 4ms/step - loss: 0.5311 - accuracy: 0.7405\n",
      "Epoch 66/100\n",
      "858/858 [==============================] - 3s 3ms/step - loss: 0.5317 - accuracy: 0.7397\n",
      "Epoch 67/100\n",
      "858/858 [==============================] - 3s 3ms/step - loss: 0.5313 - accuracy: 0.7408\n",
      "Epoch 68/100\n",
      "858/858 [==============================] - 2s 3ms/step - loss: 0.5316 - accuracy: 0.7404\n",
      "Epoch 69/100\n",
      "858/858 [==============================] - 3s 4ms/step - loss: 0.5316 - accuracy: 0.7411\n",
      "Epoch 70/100\n",
      "858/858 [==============================] - 3s 4ms/step - loss: 0.5315 - accuracy: 0.7408\n",
      "Epoch 71/100\n",
      "858/858 [==============================] - 3s 3ms/step - loss: 0.5313 - accuracy: 0.7407\n",
      "Epoch 72/100\n",
      "858/858 [==============================] - 3s 3ms/step - loss: 0.5307 - accuracy: 0.7411\n",
      "Epoch 73/100\n",
      "858/858 [==============================] - 2s 3ms/step - loss: 0.5313 - accuracy: 0.7409\n",
      "Epoch 74/100\n",
      "858/858 [==============================] - 3s 4ms/step - loss: 0.5309 - accuracy: 0.7408\n",
      "Epoch 75/100\n",
      "858/858 [==============================] - 3s 4ms/step - loss: 0.5302 - accuracy: 0.7411\n",
      "Epoch 76/100\n",
      "858/858 [==============================] - 3s 4ms/step - loss: 0.5306 - accuracy: 0.7414\n",
      "Epoch 77/100\n",
      "858/858 [==============================] - 3s 4ms/step - loss: 0.5304 - accuracy: 0.7407\n",
      "Epoch 78/100\n",
      "858/858 [==============================] - 3s 3ms/step - loss: 0.5311 - accuracy: 0.7397\n",
      "Epoch 79/100\n",
      "858/858 [==============================] - 2s 3ms/step - loss: 0.5304 - accuracy: 0.7410\n",
      "Epoch 80/100\n",
      "858/858 [==============================] - 3s 3ms/step - loss: 0.5301 - accuracy: 0.7408\n",
      "Epoch 81/100\n",
      "858/858 [==============================] - 3s 3ms/step - loss: 0.5304 - accuracy: 0.7418\n",
      "Epoch 82/100\n",
      "858/858 [==============================] - 2s 2ms/step - loss: 0.5305 - accuracy: 0.7413\n",
      "Epoch 83/100\n",
      "858/858 [==============================] - 2s 2ms/step - loss: 0.5301 - accuracy: 0.7407\n",
      "Epoch 84/100\n",
      "858/858 [==============================] - 2s 2ms/step - loss: 0.5301 - accuracy: 0.7411\n",
      "Epoch 85/100\n",
      "858/858 [==============================] - 2s 3ms/step - loss: 0.5302 - accuracy: 0.7413\n",
      "Epoch 86/100\n",
      "858/858 [==============================] - 3s 4ms/step - loss: 0.5305 - accuracy: 0.7412\n",
      "Epoch 87/100\n",
      "858/858 [==============================] - 3s 4ms/step - loss: 0.5295 - accuracy: 0.7415\n",
      "Epoch 88/100\n",
      "858/858 [==============================] - 3s 3ms/step - loss: 0.5301 - accuracy: 0.7408\n",
      "Epoch 89/100\n",
      "858/858 [==============================] - 2s 3ms/step - loss: 0.5302 - accuracy: 0.7408\n",
      "Epoch 90/100\n",
      "858/858 [==============================] - 2s 3ms/step - loss: 0.5308 - accuracy: 0.7406\n",
      "Epoch 91/100\n",
      "858/858 [==============================] - 3s 3ms/step - loss: 0.5296 - accuracy: 0.7418\n",
      "Epoch 92/100\n",
      "858/858 [==============================] - 3s 4ms/step - loss: 0.5296 - accuracy: 0.7410\n",
      "Epoch 93/100\n",
      "858/858 [==============================] - 3s 4ms/step - loss: 0.5297 - accuracy: 0.7402\n",
      "Epoch 94/100\n",
      "858/858 [==============================] - 3s 4ms/step - loss: 0.5297 - accuracy: 0.7407\n",
      "Epoch 95/100\n",
      "858/858 [==============================] - 3s 4ms/step - loss: 0.5304 - accuracy: 0.7399\n",
      "Epoch 96/100\n",
      "858/858 [==============================] - 3s 4ms/step - loss: 0.5292 - accuracy: 0.7414\n",
      "Epoch 97/100\n",
      "858/858 [==============================] - 3s 4ms/step - loss: 0.5302 - accuracy: 0.7414\n",
      "Epoch 98/100\n",
      "858/858 [==============================] - 3s 4ms/step - loss: 0.5291 - accuracy: 0.7409\n",
      "Epoch 99/100\n",
      "858/858 [==============================] - 3s 4ms/step - loss: 0.5295 - accuracy: 0.7409\n",
      "Epoch 100/100\n",
      "858/858 [==============================] - 3s 4ms/step - loss: 0.5291 - accuracy: 0.7418\n"
     ]
    }
   ],
   "source": [
    "# Train the model\n",
    "fit_model = nn.fit(X_train_scaled,Y_train,epochs=100)"
   ]
  },
  {
   "cell_type": "code",
   "execution_count": 16,
   "metadata": {},
   "outputs": [
    {
     "name": "stdout",
     "output_type": "stream",
     "text": [
      "215/215 - 1s - loss: 0.5642 - accuracy: 0.7268 - 917ms/epoch - 4ms/step\n",
      "Loss: 0.5642052292823792, Accuracy: 0.7268221378326416\n"
     ]
    }
   ],
   "source": [
    "# Evaluate the model using the test data\n",
    "model_loss, model_accuracy = nn.evaluate(X_test_scaled,y_test,verbose=2)\n",
    "print(f\"Loss: {model_loss}, Accuracy: {model_accuracy}\")"
   ]
  },
  {
   "cell_type": "code",
   "execution_count": 17,
   "metadata": {},
   "outputs": [],
   "source": [
    "# Export our model to HDF5 file\n",
    "nn.save_weights('AlphabetSoupCharity_optimization_3.h5')"
   ]
  },
  {
   "cell_type": "code",
   "execution_count": null,
   "metadata": {},
   "outputs": [],
   "source": []
  }
 ],
 "metadata": {
  "kernelspec": {
   "display_name": "Python 3 (ipykernel)",
   "language": "python",
   "name": "python3"
  },
  "language_info": {
   "codemirror_mode": {
    "name": "ipython",
    "version": 3
   },
   "file_extension": ".py",
   "mimetype": "text/x-python",
   "name": "python",
   "nbconvert_exporter": "python",
   "pygments_lexer": "ipython3",
   "version": "3.11.5"
  },
  "vscode": {
   "interpreter": {
    "hash": "31f2aee4e71d21fbe5cf8b01ff0e069b9275f58929596ceb00d14d90e3e16cd6"
   }
  }
 },
 "nbformat": 4,
 "nbformat_minor": 4
}
